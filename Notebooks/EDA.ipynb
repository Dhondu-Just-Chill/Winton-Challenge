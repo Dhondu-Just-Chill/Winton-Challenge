{
 "cells": [
  {
   "cell_type": "code",
   "execution_count": 1,
   "id": "336323ed",
   "metadata": {},
   "outputs": [],
   "source": [
    "import matplotlib.pyplot as plt # visualization\n",
    "import missingno as msno # missing data visualization\n",
    "import numpy as np # array manipulation\n",
    "import pandas as pd # dataframe manipulation\n",
    "import scipy # statistical tests\n",
    "import seaborn as sns # visualization\n",
    "from zipfile import ZipFile # reading zip file\n",
    "import random"
   ]
  },
  {
   "cell_type": "code",
   "execution_count": null,
   "id": "9a75d797",
   "metadata": {},
   "outputs": [],
   "source": [
    "train_zip_file_path = \"D:\\\\Winton-Challenge\\\\train.csv.zip\"\n",
    "\n",
    "train_file = ZipFile(train_zip_file_path)\n",
    "train = pd.read_csv(train_file.open(\"train.csv\"))"
   ]
  },
  {
   "cell_type": "code",
   "execution_count": null,
   "id": "ab337b8f",
   "metadata": {},
   "outputs": [],
   "source": [
    "train.describe()"
   ]
  },
  {
   "cell_type": "code",
   "execution_count": null,
   "id": "65ddc0e4",
   "metadata": {},
   "outputs": [],
   "source": [
    "#To make inferences about Feature\n",
    "train.iloc[:, 1:26].hist(bins=50, figsize=(30,20))\n",
    "\n",
    "plt.show()"
   ]
  },
  {
   "cell_type": "markdown",
   "id": "901bd3cb",
   "metadata": {},
   "source": [
    "# Features\n",
    "1. 1-25 are values that govern stock points of a particular stock\n",
    "2. Some are categorical some are discrete\n",
    "3. There are many missing values for some features -> WE could try to impute this either by using **k-nearest neighbour(expensive)** or **other clusterisng methods(mean, median or mode)** or **Scikit-learn's IterativeImputer**\n",
    "\n",
    "> **Hypothesis** : Feautre_1, Feature_5, Feature_10, Feature_13, Feature_16 and Feature_20 are categorical"
   ]
  },
  {
   "cell_type": "code",
   "execution_count": null,
   "id": "7356f288",
   "metadata": {},
   "outputs": [],
   "source": [
    "#To make inference about stock's nature i.e. Returns\n",
    "def plot_random_stock(train, feature_slice=(28,207)):\n",
    "    rng = np.random.default_rng()\n",
    "    rando_id = rng.integers(0, len(train))\n",
    "    stock_val_intraday = train.iloc[rando_id, slice(*feature_slice)].to_numpy()\n",
    "    x = np.arange(stock_val_intraday.size)\n",
    "    \n",
    "    plt.figure(figsize=(10, 5))\n",
    "    plt.plot(x, stock_val_intraday, '-o', markersize=4, linewidth=1.5)\n",
    "    plt.title(f\"Intraday Returns of Stock #{rando_id}\")\n",
    "    plt.xlabel(\"Time\")\n",
    "    plt.ylabel(\"Value\")\n",
    "    plt.grid(alpha=0.3)\n",
    "    plt.show()\n",
    "\n",
    "plot_random_stock(train)"
   ]
  },
  {
   "cell_type": "markdown",
   "id": "f57f9a60",
   "metadata": {},
   "source": [
    "# Returns\n",
    "1. Ret_MinusTwo:  this is the return from the close of trading on day D-2 to the close of trading on day D-1 (i.e. 1 day)\n",
    "2. Ret_MinusOne: this is the return from the close of trading on day D-1 to the point at which the intraday returns start on day D (approximately 1/2 day)\n",
    "3. Ret_2 to Ret_120: these are returns over approximately one minute on day D. Ret_2 is the return between t=1 and t=2. \n",
    "4. Ret_121 to Ret_180: intraday returns over approximately one minute on day D. These are the target variables you need to predict as {id}_{1-60}. \n",
    "5. Ret_PlusOne: this is the return from the time Ret_180 is measured on day D to the close of trading on day D+1. (approximately 1 day). **This is a target variable you need to predict as {id}_61.** \n",
    "6. Ret_PlusTwo: this is the return from the close of trading on day D+1 to the close of trading on day D+2 (i.e. 1 day) **This is a target variable you need to predict as {id}_62.** \n",
    "\n",
    "> Different Stocks have different type of returns( variational, oscillating between two-three points, not varying at all)\n",
    "\n",
    "> This could indicate category of different stocks that follow a similiar rule"
   ]
  },
  {
   "cell_type": "code",
   "execution_count": null,
   "id": "2f1008c2",
   "metadata": {},
   "outputs": [],
   "source": []
  },
  {
   "cell_type": "markdown",
   "id": "5fa834dd",
   "metadata": {},
   "source": [
    "# Weights \n",
    "> This is used for calculating **Mean Absolute Error** for the predictions\n",
    "1. Weight_Intraday: weight used to evaluate intraday return predictions Ret 121 to 180\n",
    "2. Weight_Daily: weight used to evaluate daily return predictions (Ret_PlusOne and Ret_PlusTwo).\n"
   ]
  },
  {
   "cell_type": "code",
   "execution_count": null,
   "id": "d8d2cba7",
   "metadata": {},
   "outputs": [],
   "source": []
  }
 ],
 "metadata": {
  "kernelspec": {
   "display_name": "Python 3",
   "language": "python",
   "name": "python3"
  },
  "language_info": {
   "codemirror_mode": {
    "name": "ipython",
    "version": 3
   },
   "file_extension": ".py",
   "mimetype": "text/x-python",
   "name": "python",
   "nbconvert_exporter": "python",
   "pygments_lexer": "ipython3",
   "version": "3.11.9"
  }
 },
 "nbformat": 4,
 "nbformat_minor": 5
}
